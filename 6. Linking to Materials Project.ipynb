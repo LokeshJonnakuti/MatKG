{
 "cells": [
  {
   "cell_type": "code",
   "execution_count": null,
   "id": "a163b06d",
   "metadata": {},
   "outputs": [],
   "source": [
    "import pandas as pd\n",
    "import random \n",
    "from tqdm import tqdm\n",
    "import threading\n",
    "import requests\n",
    "import time\n",
    "from pymatgen import MPRester"
   ]
  },
  {
   "cell_type": "markdown",
   "id": "06cfb2e7",
   "metadata": {},
   "source": [
    "### Read the CSV file"
   ]
  },
  {
   "cell_type": "markdown",
   "id": "29ca1981",
   "metadata": {},
   "source": [
    "### Load the file SUBRELOBJ.csv from https://zenodo.org/records/10022727"
   ]
  },
  {
   "cell_type": "code",
   "execution_count": null,
   "id": "6ff32dc0",
   "metadata": {},
   "outputs": [],
   "source": [
    "SUBRELOBJ = pd.read_csv('RDF Files/SUBRELOBJ.csv')"
   ]
  },
  {
   "cell_type": "code",
   "execution_count": null,
   "id": "fb491202",
   "metadata": {},
   "outputs": [],
   "source": [
    "print(\"Number of rows: {}\".format(SUBRELOBJ.shape))\n",
    "print(\"Columns : {}\".format(SUBRELOBJ.columns.tolist()))"
   ]
  },
  {
   "cell_type": "code",
   "execution_count": null,
   "id": "dc7082f4",
   "metadata": {},
   "outputs": [],
   "source": [
    "unique_entities = list(set(SUBRELOBJ['Subject'].tolist() + SUBRELOBJ['Object'].tolist()))\n",
    "print(\"Number of unique entities : {}\".format(len(unique_entities)))"
   ]
  },
  {
   "cell_type": "markdown",
   "id": "36433563",
   "metadata": {},
   "source": [
    "## Query Materials Project"
   ]
  },
  {
   "cell_type": "code",
   "execution_count": null,
   "id": "3c1a7dd1",
   "metadata": {},
   "outputs": [],
   "source": [
    "# Define your API key for MPRester\n",
    "api_key = <your_api_key>\n",
    "\n",
    "# Function to clean chemical formula strings\n",
    "def chemical_string_to_formula(chemical_string):\n",
    "    return chemical_string.replace('(', '').replace(')', '')\n",
    "\n",
    "# Function to search materials and return material IDs\n",
    "def search_materials(mpr, chemical_string):\n",
    "    formula = chemical_string_to_formula(chemical_string)\n",
    "    try:\n",
    "        materials = mpr.get_data(formula)\n",
    "        return [material['material_id'] for material in materials]\n",
    "    except Exception as e:\n",
    "        return []"
   ]
  },
  {
   "cell_type": "code",
   "execution_count": null,
   "id": "01929214",
   "metadata": {},
   "outputs": [],
   "source": [
    "mpr = MPRester(api_key)\n",
    "mp_id_dict = {}\n",
    "count =0\n",
    "for chemical_string in tqdm(unique_entities):\n",
    "    try:\n",
    "        material_ids = search_materials(mpr, chemical_string)\n",
    "        if material_ids:\n",
    "           # print(f\"Material IDs for {chemical_string}: {material_ids}\")\n",
    "            mp_id_dict[chemical_string] = material_ids\n",
    "        if (count+1)%1000==0:\n",
    "            print(len(mp_id_dict))\n",
    "        count+=1\n",
    "    except:\n",
    "        pass"
   ]
  },
  {
   "cell_type": "code",
   "execution_count": null,
   "id": "e31153a9",
   "metadata": {},
   "outputs": [],
   "source": [
    "len(mp_id_dict)"
   ]
  },
  {
   "cell_type": "code",
   "execution_count": null,
   "id": "a80b2805",
   "metadata": {},
   "outputs": [],
   "source": []
  }
 ],
 "metadata": {
  "kernelspec": {
   "display_name": "Vineeth",
   "language": "python",
   "name": "vineeth"
  },
  "language_info": {
   "codemirror_mode": {
    "name": "ipython",
    "version": 3
   },
   "file_extension": ".py",
   "mimetype": "text/x-python",
   "name": "python",
   "nbconvert_exporter": "python",
   "pygments_lexer": "ipython3",
   "version": "3.6.13"
  }
 },
 "nbformat": 4,
 "nbformat_minor": 5
}
