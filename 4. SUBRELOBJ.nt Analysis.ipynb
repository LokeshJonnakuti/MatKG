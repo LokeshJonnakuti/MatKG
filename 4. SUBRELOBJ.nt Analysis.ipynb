{
 "cells": [
  {
   "cell_type": "code",
   "execution_count": 9,
   "id": "a51b2ca3",
   "metadata": {},
   "outputs": [],
   "source": [
    "import pandas as pd\n",
    "import random \n",
    "from rdflib import Graph, Literal, Namespace, RDF, URIRef, BNode\n",
    "from tqdm import tqdm\n",
    "from urllib.parse import quote\n",
    "from rdflib.plugins.sparql import prepareQuery\n",
    "import gzip\n",
    "import pickle"
   ]
  },
  {
   "cell_type": "markdown",
   "id": "2a150333",
   "metadata": {},
   "source": [
    "# Load the file SUBRELOBJ.nt.tar.gz from https://zenodo.org/records/10022727"
   ]
  },
  {
   "cell_type": "code",
   "execution_count": 7,
   "id": "2a389dc8",
   "metadata": {},
   "outputs": [],
   "source": [
    "# Initialize RDF graph\n",
    "G = Graph()\n",
    "\n",
    "# Open the gzipped .nt file\n",
    "with gzip.open('SUBRELOBJ.nt.tar.gz', 'rt') as f:\n",
    "    for line in f:\n",
    "        try:\n",
    "            # Load each line into the RDF graph\n",
    "            G.parse(data=line, format=\"nt\")\n",
    "        except:\n",
    "            # Print the bad line for debugging, or just pass to ignore\n",
    "            pass"
   ]
  },
  {
   "cell_type": "code",
   "execution_count": 11,
   "id": "b26118ab",
   "metadata": {},
   "outputs": [],
   "source": [
    "terms_dict = pickle.load(open('/home/jupyter/Vineeth/MatKG GitHub pages/RDF Files/entity_uri_mapping.pickle','rb'))"
   ]
  },
  {
   "cell_type": "code",
   "execution_count": 14,
   "id": "eaec0b4f",
   "metadata": {},
   "outputs": [],
   "source": [
    "inverse_dict ={value: key for key, value in terms_dict.items()}"
   ]
  },
  {
   "cell_type": "code",
   "execution_count": 12,
   "id": "7cbaad2a",
   "metadata": {},
   "outputs": [],
   "source": [
    "# Step 1 & 2: SPARQL query to get rows where subject is 'graphene' and predicate is 'CHM-PRO'\n",
    "\n",
    "# Step 1: Extract all rows that satisfy the condition (subject = 'graphene' and relationship = 'CHM-PRO')\n",
    "# Define the SPARQL query\n",
    "sparql_query = \"\"\"\n",
    "PREFIX ex: <http://example.org/>\n",
    "SELECT ?object ?count WHERE {\n",
    "    ?index ex:hasSubject <http://example.com/CHM/Graphene> ;\n",
    "          ex:hasRelationship <http://example.org/CHM-PRO> ;\n",
    "          ex:hasObject ?object ;\n",
    "          ex:hasCount ?count .\n",
    "}\n",
    "ORDER BY DESC(?count)\n",
    "\"\"\"\n",
    "\n",
    "\n",
    "\n",
    "# Execute the query\n",
    "results = g.query(sparql_query)"
   ]
  },
  {
   "cell_type": "code",
   "execution_count": 17,
   "id": "8c1b548d",
   "metadata": {},
   "outputs": [
    {
     "name": "stdout",
     "output_type": "stream",
     "text": [
      "Property: Structure, Count: 9038\n",
      "Property: Morphology, Count: 4461\n",
      "Property: Stability, Count: 3915\n",
      "Property: Electrochemical Performance, Count: 3671\n",
      "Property: Conductivity, Count: 3517\n",
      "Property: Metals, Count: 3277\n",
      "Property: Electrical Conductivity, Count: 3055\n",
      "Property: Specific Capacitance, Count: 2876\n",
      "Property: Conductive, Count: 2723\n",
      "Property: Surface Area, Count: 2634\n",
      "Property: Rate Capability, Count: 2429\n",
      "Property: Cycling Performance, Count: 2297\n"
     ]
    }
   ],
   "source": [
    "# Print the results\n",
    "it =0\n",
    "for row in results:\n",
    "    property_, count = row\n",
    "    print(f\"Property: {inverse_dict[property_]}, Count: {count}\")\n",
    "    if it>10:\n",
    "        break\n",
    "    it+=1"
   ]
  },
  {
   "cell_type": "code",
   "execution_count": null,
   "id": "4e8fa44a",
   "metadata": {},
   "outputs": [],
   "source": []
  }
 ],
 "metadata": {
  "kernelspec": {
   "display_name": "vineeth_10",
   "language": "python",
   "name": "vineeth_10"
  },
  "language_info": {
   "codemirror_mode": {
    "name": "ipython",
    "version": 3
   },
   "file_extension": ".py",
   "mimetype": "text/x-python",
   "name": "python",
   "nbconvert_exporter": "python",
   "pygments_lexer": "ipython3",
   "version": "3.10.11"
  }
 },
 "nbformat": 4,
 "nbformat_minor": 5
}
